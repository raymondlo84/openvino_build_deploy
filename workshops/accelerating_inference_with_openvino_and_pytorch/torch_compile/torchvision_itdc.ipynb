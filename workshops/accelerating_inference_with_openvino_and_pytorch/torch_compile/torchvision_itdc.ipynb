{
 "cells": [
  {
   "attachments": {},
   "cell_type": "markdown",
   "id": "0a465fbf",
   "metadata": {},
   "source": [
    "# Torchvision using torch.compile with OpenVINO backend\n",
    "\n",
    "This is a self-contained example that relies solely on its own code.\n",
    "\n",
    "<img referrerpolicy=\"no-referrer-when-downgrade\" src=\"https://static.scarf.sh/a.png?x-pxid=5b5a4db0-7875-4bfb-bdbd-01698b5b1a77&file=notebooks/latent-consistency-models-image-generation/latent-consistency-models-optimum-demo.ipynb\" />\n"
   ]
  },
  {
   "attachments": {},
   "cell_type": "markdown",
   "id": "523a3f91",
   "metadata": {},
   "source": [
    "### Prerequisites\n",
    "[back to top ⬆️](#Table-of-contents:)\n",
    "\n",
    "Install required packages"
   ]
  },
  {
   "cell_type": "code",
   "execution_count": 1,
   "id": "ec2a1a2a",
   "metadata": {},
   "outputs": [],
   "source": [
    "import sys\n",
    "!{sys.executable} -m pip install -q \"openvino>=2023.3.0\"\n",
    "!{sys.executable} -m pip install -q \"torchvision\" \"pillow\" \"urllib3\" \"torch>=2.1.1\""
   ]
  },
  {
   "cell_type": "code",
   "execution_count": 2,
   "id": "2b4af452",
   "metadata": {},
   "outputs": [],
   "source": [
    "import torch\n",
    "import torchvision.transforms as transforms\n",
    "from torchvision import models\n",
    "from PIL import Image\n",
    "import urllib\n",
    "\n",
    "# Load the Inception v3 model pre-trained on ImageNet\n",
    "model = models.inception_v3(pretrained=True)\n",
    "model.eval()  # Set the model to evaluation mode\n",
    "\n",
    "model = torch.compile(model,backend=\"openvino\", options = {\"device\" : \"CPU\"})\n",
    "#Switch to CPU to GPU here", 
    "\n",
    "# Define the image preprocessing steps\n",
    "preprocess = transforms.Compose([\n",
    "    transforms.Resize(299),\n",
    "    transforms.CenterCrop(299),\n",
    "    transforms.ToTensor(),\n",
    "    transforms.Normalize(mean=[0.485, 0.456, 0.406], std=[0.229, 0.224, 0.225]),\n",
    "])\n",
    "\n",
    "# Path to the image you want to classify\n",
    "\n",
    "url, img_path = (\"https://github.com/pytorch/hub/raw/master/images/dog.jpg\", \"dog.jpg\")\n",
    "urllib.request.urlretrieve(url, img_path)\n",
    "# Load the image\n",
    "img = Image.open(img_path)\n",
    "\n",
    "# Preprocess the image\n",
    "img_tensor = preprocess(img)\n",
    "\n",
    "# Add a batch dimension (1, 3, 299, 299)\n",
    "img_tensor = img_tensor.unsqueeze(0)\n"
   ]
  },
  {
   "cell_type": "code",
   "execution_count": 3,
   "id": "6960adc6",
   "metadata": {},
   "outputs": [],
   "source": [
    "# Make predictions\n",
    "with torch.no_grad():\n",
    "    outputs = model(img_tensor)\n",
    "\n",
    "# Apply softmax to get probabilities\n",
    "probabilities = torch.nn.functional.softmax(outputs[0], dim=0)\n",
    "\n",
    "# Get the top 3 predictions\n",
    "top_probabilities, top_indices = torch.topk(probabilities, 3)\n",
    "\n",
    "# Load the labels for ImageNet classes\n",
    "LABELS_URL = \"https://raw.githubusercontent.com/anishathalye/imagenet-simple-labels/master/imagenet-simple-labels.json\"\n",
    "import urllib\n",
    "import json\n",
    "with urllib.request.urlopen(LABELS_URL) as url:\n",
    "    labels = json.loads(url.read().decode())\n",
    "\n",
    "# Print the top 3 predictions with probabilities\n",
    "print('Predictions:')\n",
    "for i in range(top_indices.size(0)):\n",
    "    label = labels[top_indices[i]]\n",
    "    prob = top_probabilities[i].item()\n",
    "    print(f\"{i+1}: {label} ({prob:.4f})\")\n",
    "\n",
    "img"
   ]
  }
 ],
 "metadata": {
  "kernelspec": {
   "display_name": "Python 3 (ipykernel)",
   "language": "python",
   "name": "python3"
  },
  "language_info": {
   "codemirror_mode": {
    "name": "ipython",
    "version": 3
   },
   "file_extension": ".py",
   "mimetype": "text/x-python",
   "name": "python",
   "nbconvert_exporter": "python",
   "pygments_lexer": "ipython3",
   "version": "3.11.7"
  },
  "openvino_notebooks": {
   "imageUrl": "https://github.com/openvinotoolkit/openvino_notebooks/blob/latest/notebooks/stable-diffusion-v2/stable-diffusion-v2-optimum-demo.png?raw=true",
   "tags": {
    "categories": [
     "Model Demos",
     "AI Trends"
    ],
    "libraries": [],
    "other": [],
    "tasks": [
     "Text-to-Image"
    ]
   }
  },
  "widgets": {
   "application/vnd.jupyter.widget-state+json": {
    "state": {},
    "version_major": 2,
    "version_minor": 0
   }
  }
 },
 "nbformat": 4,
 "nbformat_minor": 5
}
